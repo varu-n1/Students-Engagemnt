{
 "cells": [
  {
   "cell_type": "markdown",
   "id": "eabc78ba",
   "metadata": {},
   "source": [
    "# Load Data from CSVs"
   ]
  },
  {
   "cell_type": "code",
   "execution_count": 27,
   "id": "a8f7647d",
   "metadata": {},
   "outputs": [],
   "source": [
    "import unicodecsv as csv\n",
    "\n",
    "def read_csv(csvfile):\n",
    "    with open(csvfile, 'rb') as f:\n",
    "        reader = csv.DictReader(f)\n",
    "        return list(reader)\n",
    "daily_engagement = read_csv('C:/Users/Varun Kumar/data_analyst/intro_to_data_analysis/Lesson1/daily_engagement.csv')\n",
    "project_submissions = read_csv('C:/Users/Varun Kumar/data_analyst/intro_to_data_analysis/Lesson1/project_submissions.csv')\n",
    "enrollments = read_csv('C:/Users/Varun Kumar/data_analyst/intro_to_data_analysis/Lesson1/enrollments.csv')"
   ]
  },
  {
   "cell_type": "code",
   "execution_count": 28,
   "id": "295db9ad",
   "metadata": {},
   "outputs": [
    {
     "name": "stdout",
     "output_type": "stream",
     "text": [
      "{'acct': '0', 'utc_date': '2015-01-09', 'num_courses_visited': '1.0', 'total_minutes_visited': '11.6793745', 'lessons_completed': '0.0', 'projects_completed': '0.0'}\n",
      "----------\n",
      "{'creation_date': '2015-01-14', 'completion_date': '2015-01-16', 'assigned_rating': 'UNGRADED', 'account_key': '256', 'lesson_key': '3176718735', 'processing_state': 'EVALUATED'}\n",
      "----------\n",
      "{'account_key': '448', 'status': 'canceled', 'join_date': '2014-11-10', 'cancel_date': '2015-01-14', 'days_to_cancel': '65', 'is_udacity': 'True', 'is_canceled': 'True'}\n"
     ]
    }
   ],
   "source": [
    "print(daily_engagement[0])\n",
    "print('----------')\n",
    "print(project_submissions[0])\n",
    "print('----------')\n",
    "print(enrollments[0])"
   ]
  },
  {
   "cell_type": "markdown",
   "id": "b5eebb11",
   "metadata": {},
   "source": [
    "# Fixing Data Types"
   ]
  },
  {
   "cell_type": "code",
   "execution_count": 29,
   "id": "49cdee63",
   "metadata": {},
   "outputs": [
    {
     "data": {
      "text/plain": [
       "{'account_key': '448',\n",
       " 'status': 'canceled',\n",
       " 'join_date': datetime.datetime(2014, 11, 10, 0, 0),\n",
       " 'cancel_date': datetime.datetime(2015, 1, 14, 0, 0),\n",
       " 'days_to_cancel': 65,\n",
       " 'is_udacity': True,\n",
       " 'is_canceled': True}"
      ]
     },
     "execution_count": 29,
     "metadata": {},
     "output_type": "execute_result"
    }
   ],
   "source": [
    "from datetime import datetime as dt\n",
    "\n",
    "# Takes a date as a string, and returns a Python datetime object. \n",
    "# If there is no date given, returns None\n",
    "def parse_date(date):\n",
    "    if date == '':\n",
    "        return None\n",
    "    else:\n",
    "        return dt.strptime(date, '%Y-%m-%d')\n",
    "    \n",
    "# Takes a string which is either an empty string or represents an integer,\n",
    "# and returns an int or None.\n",
    "def parse_maybe_int(i):\n",
    "    if i == '':\n",
    "        return None\n",
    "    else:\n",
    "        return int(i)\n",
    "\n",
    "# Clean up the data types in the enrollments table\n",
    "for enrollment in enrollments:\n",
    "    enrollment['cancel_date'] = parse_date(enrollment['cancel_date'])\n",
    "    enrollment['days_to_cancel'] = parse_maybe_int(enrollment['days_to_cancel'])\n",
    "    enrollment['is_canceled'] = enrollment['is_canceled'] == 'True'\n",
    "    enrollment['is_udacity'] = enrollment['is_udacity'] == 'True'\n",
    "    enrollment['join_date'] = parse_date(enrollment['join_date'])\n",
    "    \n",
    "enrollments[0]"
   ]
  },
  {
   "cell_type": "code",
   "execution_count": 30,
   "id": "18cf82dc",
   "metadata": {},
   "outputs": [
    {
     "data": {
      "text/plain": [
       "{'acct': '0',\n",
       " 'utc_date': datetime.datetime(2015, 1, 9, 0, 0),\n",
       " 'num_courses_visited': 1,\n",
       " 'total_minutes_visited': 11.6793745,\n",
       " 'lessons_completed': 0,\n",
       " 'projects_completed': 0}"
      ]
     },
     "execution_count": 30,
     "metadata": {},
     "output_type": "execute_result"
    }
   ],
   "source": [
    "# Clean up the data types in the engagement table\n",
    "for engagement_record in daily_engagement:\n",
    "    engagement_record['lessons_completed'] = int(float(engagement_record['lessons_completed']))\n",
    "    engagement_record['num_courses_visited'] = int(float(engagement_record['num_courses_visited']))\n",
    "    engagement_record['projects_completed'] = int(float(engagement_record['projects_completed']))\n",
    "    engagement_record['total_minutes_visited'] = float(engagement_record['total_minutes_visited'])\n",
    "    engagement_record['utc_date'] = parse_date(engagement_record['utc_date'])\n",
    "    \n",
    "daily_engagement[0]"
   ]
  },
  {
   "cell_type": "code",
   "execution_count": 31,
   "id": "dc279db3",
   "metadata": {
    "scrolled": true
   },
   "outputs": [
    {
     "data": {
      "text/plain": [
       "{'creation_date': datetime.datetime(2015, 1, 14, 0, 0),\n",
       " 'completion_date': datetime.datetime(2015, 1, 16, 0, 0),\n",
       " 'assigned_rating': 'UNGRADED',\n",
       " 'account_key': '256',\n",
       " 'lesson_key': '3176718735',\n",
       " 'processing_state': 'EVALUATED'}"
      ]
     },
     "execution_count": 31,
     "metadata": {},
     "output_type": "execute_result"
    }
   ],
   "source": [
    "# Clean up the data types in the submissions table\n",
    "for submission in project_submissions:\n",
    "    submission['completion_date'] = parse_date(submission['completion_date'])\n",
    "    submission['creation_date'] = parse_date(submission['creation_date'])\n",
    "\n",
    "project_submissions[0]"
   ]
  },
  {
   "cell_type": "markdown",
   "id": "88062994",
   "metadata": {},
   "source": [
    "# Problems in the Dataset"
   ]
  },
  {
   "cell_type": "code",
   "execution_count": 32,
   "id": "a357eddd",
   "metadata": {},
   "outputs": [],
   "source": [
    "## Rename the \"acct\" column in the daily_engagement table to \"account_key\".\n",
    "for engagement_record in daily_engagement:\n",
    "    engagement_record['account_key'] = engagement_record['acct']\n",
    "    del[engagement_record['acct']]"
   ]
  },
  {
   "cell_type": "markdown",
   "id": "3ac5c26f",
   "metadata": {},
   "source": [
    "# Investigating the Dataset"
   ]
  },
  {
   "cell_type": "code",
   "execution_count": 33,
   "id": "3a190433",
   "metadata": {},
   "outputs": [
    {
     "name": "stdout",
     "output_type": "stream",
     "text": [
      "1640\n",
      "136240\n",
      "3642\n",
      "----------\n",
      "1302\n",
      "1237\n",
      "743\n"
     ]
    }
   ],
   "source": [
    "## Find the total number of rows and the number of unique students (account keys)\n",
    "## in each table.\n",
    "\n",
    "def get_unique_students(data):\n",
    "    unique_students = set()\n",
    "    for data_point in data:\n",
    "        unique_students.add(data_point['account_key'])\n",
    "\n",
    "    return unique_students\n",
    "\n",
    "print(len(enrollments))\n",
    "print(len(daily_engagement))\n",
    "print(len(project_submissions))\n",
    "print('----------')\n",
    "print(len(get_unique_students(enrollments)))\n",
    "print(len(get_unique_students(daily_engagement)))\n",
    "print(len(get_unique_students(project_submissions)))"
   ]
  },
  {
   "cell_type": "markdown",
   "id": "f3a7a405",
   "metadata": {},
   "source": [
    "# Missing Engagement Records"
   ]
  },
  {
   "cell_type": "code",
   "execution_count": 34,
   "id": "1ff58cbc",
   "metadata": {},
   "outputs": [
    {
     "name": "stdout",
     "output_type": "stream",
     "text": [
      "{'account_key': '1219', 'status': 'canceled', 'join_date': datetime.datetime(2014, 11, 12, 0, 0), 'cancel_date': datetime.datetime(2014, 11, 12, 0, 0), 'days_to_cancel': 0, 'is_udacity': False, 'is_canceled': True}\n"
     ]
    }
   ],
   "source": [
    "## Find any one student enrollments where the student is missing from the daily engagement table.\n",
    "## Output that enrollment.\n",
    "\n",
    "unique_engagement_students = get_unique_students(daily_engagement)\n",
    "\n",
    "for enrollment in enrollments:\n",
    "    student = enrollment['account_key']\n",
    "    if student not in unique_engagement_students:\n",
    "        print(enrollment)\n",
    "        break"
   ]
  },
  {
   "cell_type": "markdown",
   "id": "2c5d2bae",
   "metadata": {},
   "source": [
    "# Checking for More Problem Records"
   ]
  },
  {
   "cell_type": "code",
   "execution_count": 35,
   "id": "611ffd5c",
   "metadata": {},
   "outputs": [
    {
     "name": "stdout",
     "output_type": "stream",
     "text": [
      "{'account_key': '1304', 'status': 'canceled', 'join_date': datetime.datetime(2015, 1, 10, 0, 0), 'cancel_date': datetime.datetime(2015, 3, 10, 0, 0), 'days_to_cancel': 59, 'is_udacity': True, 'is_canceled': True}\n",
      "{'account_key': '1304', 'status': 'canceled', 'join_date': datetime.datetime(2015, 3, 10, 0, 0), 'cancel_date': datetime.datetime(2015, 6, 17, 0, 0), 'days_to_cancel': 99, 'is_udacity': True, 'is_canceled': True}\n",
      "{'account_key': '1101', 'status': 'current', 'join_date': datetime.datetime(2015, 2, 25, 0, 0), 'cancel_date': None, 'days_to_cancel': None, 'is_udacity': True, 'is_canceled': False}\n"
     ]
    },
    {
     "data": {
      "text/plain": [
       "3"
      ]
     },
     "execution_count": 35,
     "metadata": {},
     "output_type": "execute_result"
    }
   ],
   "source": [
    "## Find the number of surprising data points (enrollments missing from\n",
    "## the engagement table) that remain, if any.\n",
    "\n",
    "num_problem_students = 0\n",
    "for enrollment in enrollments:\n",
    "    student = enrollment['account_key']\n",
    "    if (student not in unique_engagement_students and \n",
    "            enrollment['join_date'] != enrollment['cancel_date']):\n",
    "        num_problem_students += 1\n",
    "        print(enrollment)\n",
    "num_problem_students"
   ]
  },
  {
   "cell_type": "markdown",
   "id": "bb6a716b",
   "metadata": {},
   "source": [
    "# Tracking Down the Remaining Problems"
   ]
  },
  {
   "cell_type": "code",
   "execution_count": 36,
   "id": "0d79566c",
   "metadata": {},
   "outputs": [
    {
     "data": {
      "text/plain": [
       "6"
      ]
     },
     "execution_count": 36,
     "metadata": {},
     "output_type": "execute_result"
    }
   ],
   "source": [
    "# Create a set of the account keys for all Udacity test accounts\n",
    "udacity_test_accounts = set()\n",
    "for enrollment in enrollments:\n",
    "    if enrollment['is_udacity']:\n",
    "        udacity_test_accounts.add(enrollment['account_key'])\n",
    "len(udacity_test_accounts)"
   ]
  },
  {
   "cell_type": "code",
   "execution_count": 37,
   "id": "6f42c666",
   "metadata": {},
   "outputs": [],
   "source": [
    "# Given some data with an account_key field, removes any records corresponding to Udacity test accounts\n",
    "def remove_udacity_accounts(data):\n",
    "    non_udacity_data = []\n",
    "    for data_point in data:\n",
    "        if data_point['account_key'] not in udacity_test_accounts:\n",
    "            non_udacity_data.append(data_point)\n",
    "    return non_udacity_data"
   ]
  },
  {
   "cell_type": "code",
   "execution_count": 38,
   "id": "b73883ff",
   "metadata": {},
   "outputs": [
    {
     "name": "stdout",
     "output_type": "stream",
     "text": [
      "1622\n",
      "135656\n",
      "3634\n"
     ]
    }
   ],
   "source": [
    "# Remove Udacity test accounts from all three tables\n",
    "non_udacity_enrollments = remove_udacity_accounts(enrollments)\n",
    "non_udacity_engagement = remove_udacity_accounts(daily_engagement)\n",
    "non_udacity_submissions = remove_udacity_accounts(project_submissions)\n",
    "\n",
    "print(len(non_udacity_enrollments))\n",
    "print(len(non_udacity_engagement))\n",
    "print(len(non_udacity_submissions))"
   ]
  },
  {
   "cell_type": "markdown",
   "id": "3bfe4e1f",
   "metadata": {},
   "source": [
    "# Explore Data\n",
    "## Refining the Question"
   ]
  },
  {
   "cell_type": "code",
   "execution_count": 39,
   "id": "db68c482",
   "metadata": {},
   "outputs": [
    {
     "data": {
      "text/plain": [
       "995"
      ]
     },
     "execution_count": 39,
     "metadata": {},
     "output_type": "execute_result"
    }
   ],
   "source": [
    "## Create a dictionary named paid_students containing all students who either\n",
    "## haven't canceled yet or who remained enrolled for more than 7 days. The keys\n",
    "## should be account keys, and the values should be the date the student enrolled.\n",
    "\n",
    "paid_students = {}\n",
    "for enrollment in non_udacity_enrollments:\n",
    "    if (not enrollment['is_canceled'] or\n",
    "            enrollment['days_to_cancel'] > 7):\n",
    "        account_key = enrollment['account_key']\n",
    "        enrollment_date = enrollment['join_date']\n",
    "\n",
    "        if (account_key not in paid_students or\n",
    "                enrollment_date > paid_students[account_key]):\n",
    "            paid_students[account_key] = enrollment_date\n",
    "\n",
    "len(paid_students)"
   ]
  },
  {
   "cell_type": "markdown",
   "id": "8445c928",
   "metadata": {},
   "source": [
    "## Getting Data from First Week"
   ]
  },
  {
   "cell_type": "code",
   "execution_count": 40,
   "id": "06a236dd",
   "metadata": {},
   "outputs": [],
   "source": [
    "# Takes a student's join date and the date of a specific engagement record,\n",
    "# and returns True if that engagement record happened within one week\n",
    "# of the student joining.\n",
    "def within_one_week(join_date, engagement_date):\n",
    "    time_delta = engagement_date - join_date\n",
    "    return time_delta.days < 7"
   ]
  },
  {
   "cell_type": "code",
   "execution_count": 41,
   "id": "b11de98c",
   "metadata": {},
   "outputs": [
    {
     "name": "stdout",
     "output_type": "stream",
     "text": [
      "1293\n",
      "134549\n",
      "3618\n"
     ]
    }
   ],
   "source": [
    "def remove_free_trial_cancels(data):\n",
    "    new_data = []\n",
    "    for data_point in data:\n",
    "        if data_point['account_key'] in paid_students:\n",
    "            new_data.append(data_point)\n",
    "    return new_data\n",
    "\n",
    "paid_enrollments = remove_free_trial_cancels(non_udacity_enrollments)\n",
    "paid_engagement = remove_free_trial_cancels(non_udacity_engagement)\n",
    "paid_submissions = remove_free_trial_cancels(non_udacity_submissions)\n",
    "\n",
    "print(len(paid_enrollments))\n",
    "print(len(paid_engagement))\n",
    "print(len(paid_submissions))"
   ]
  },
  {
   "cell_type": "code",
   "execution_count": 42,
   "id": "2ea45f0f",
   "metadata": {},
   "outputs": [
    {
     "data": {
      "text/plain": [
       "21508"
      ]
     },
     "execution_count": 42,
     "metadata": {},
     "output_type": "execute_result"
    }
   ],
   "source": [
    "## Create a list of rows from the engagement table including only rows where\n",
    "## the student is one of the paid students you just found, and the date is within\n",
    "## one week of the student's join date.\n",
    "\n",
    "paid_engagement_in_first_week = []\n",
    "for engagement_record in paid_engagement:\n",
    "    account_key = engagement_record['account_key']\n",
    "    join_date = paid_students[account_key]\n",
    "    engagement_record_date = engagement_record['utc_date']\n",
    "\n",
    "    if within_one_week(join_date, engagement_record_date):\n",
    "        paid_engagement_in_first_week.append(engagement_record)\n",
    "\n",
    "len(paid_engagement_in_first_week)"
   ]
  },
  {
   "cell_type": "markdown",
   "id": "2d9af404",
   "metadata": {},
   "source": [
    "# Exploring Student Engagement"
   ]
  },
  {
   "cell_type": "code",
   "execution_count": 43,
   "id": "b540ed16",
   "metadata": {},
   "outputs": [],
   "source": [
    "from collections import defaultdict\n",
    "\n",
    "# Create a dictionary of engagement grouped by student.\n",
    "# The keys are account keys, and the values are lists of engagement records.\n",
    "engagement_by_account = defaultdict(list)\n",
    "for engagement_record in paid_engagement_in_first_week:\n",
    "    account_key = engagement_record['account_key']\n",
    "    engagement_by_account[account_key].append(engagement_record)"
   ]
  },
  {
   "cell_type": "code",
   "execution_count": 44,
   "id": "60fbd70d",
   "metadata": {},
   "outputs": [],
   "source": [
    "# Create a dictionary with the total minutes each student spent in the classroom during the first week.\n",
    "# The keys are account keys, and the values are numbers (total minutes)\n",
    "total_minutes_by_account = {}\n",
    "for account_key, engagement_for_student in engagement_by_account.items():\n",
    "    total_minutes = 0\n",
    "    for engagement_record in engagement_for_student:\n",
    "        total_minutes += engagement_record['total_minutes_visited']\n",
    "    total_minutes_by_account[account_key] = total_minutes"
   ]
  },
  {
   "cell_type": "code",
   "execution_count": 45,
   "id": "61bab051",
   "metadata": {},
   "outputs": [
    {
     "name": "stdout",
     "output_type": "stream",
     "text": [
      "Mean: 647.5901738262695\n",
      "Standard deviation: 1129.2712104188108\n",
      "Minimum: 0.0\n",
      "Maximum: 10568.100867332541\n"
     ]
    }
   ],
   "source": [
    "import numpy as np\n",
    "\n",
    "# Summarize the data about minutes spent in the classroom\n",
    "total_minutes = list(total_minutes_by_account.values())\n",
    "print('Mean:', np.mean(total_minutes))\n",
    "print('Standard deviation:', np.std(total_minutes))\n",
    "print('Minimum:', np.min(total_minutes))\n",
    "print('Maximum:', np.max(total_minutes))"
   ]
  },
  {
   "cell_type": "markdown",
   "id": "b5657b6e",
   "metadata": {},
   "source": [
    "# Debugging Data Analysis Code"
   ]
  },
  {
   "cell_type": "code",
   "execution_count": 46,
   "id": "c5651cce",
   "metadata": {},
   "outputs": [
    {
     "name": "stdout",
     "output_type": "stream",
     "text": [
      "10568.100867332541\n",
      "108\n"
     ]
    }
   ],
   "source": [
    "## Go through a similar process as before to see if there is a problem.\n",
    "## Locate at least one surprising piece of data, output it, and take a look at it.\n",
    "\n",
    "problem_time = 0\n",
    "problem_student = 0\n",
    "for student, total_minutes in total_minutes_by_account.items():\n",
    "    if total_minutes > problem_time:\n",
    "        problem_time = total_minutes\n",
    "        problem_student = student\n",
    "print(problem_time)\n",
    "print(problem_student)"
   ]
  },
  {
   "cell_type": "code",
   "execution_count": 47,
   "id": "3a9ac99b",
   "metadata": {},
   "outputs": [
    {
     "name": "stdout",
     "output_type": "stream",
     "text": [
      "Mean: 306.70832675342825\n",
      "Standard deviation: 412.99693340852957\n",
      "Minimum: 0.0\n",
      "Maximum: 3564.7332644989997\n"
     ]
    }
   ],
   "source": [
    "total_minutes_by_account = {}\n",
    "for account_key, engagement_for_student in engagement_by_account.items():\n",
    "    total_minutes = 0\n",
    "    for engagement_record in engagement_for_student:\n",
    "        delta = engagement_record['utc_date'] - paid_students[account_key]\n",
    "        if delta.days >= 0:\n",
    "            total_minutes += engagement_record['total_minutes_visited']\n",
    "    total_minutes_by_account[account_key] = total_minutes\n",
    "\n",
    "total_minutes = list(total_minutes_by_account.values())\n",
    "print('Mean:', np.mean(total_minutes))\n",
    "print('Standard deviation:', np.std(total_minutes))\n",
    "print('Minimum:', np.min(total_minutes))\n",
    "print('Maximum:', np.max(total_minutes))"
   ]
  },
  {
   "cell_type": "markdown",
   "id": "1184b07b",
   "metadata": {},
   "source": [
    "# Lessons Completed In First Week"
   ]
  },
  {
   "cell_type": "code",
   "execution_count": 48,
   "id": "1832884b",
   "metadata": {},
   "outputs": [
    {
     "name": "stdout",
     "output_type": "stream",
     "text": [
      "Mean: 1.636180904522613\n",
      "Standard deviation: 3.002561299829423\n",
      "Minimum: 0\n",
      "Maximum: 36\n"
     ]
    }
   ],
   "source": [
    "## Adapt the code above to find the mean, standard deviation, minimum, and maximum for\n",
    "## the number of lessons completed by each student during the first week. Try creating\n",
    "## one or more functions to re-use the code above.\n",
    "def find_total(data, key):\n",
    "    total_by_account = {}\n",
    "    for account_key, engagement_for_student in data.items():\n",
    "        total = 0\n",
    "        for engagement_record in engagement_for_student:\n",
    "            delta = engagement_record['utc_date'] - paid_students[account_key]\n",
    "            if delta.days >= 0:\n",
    "                total += engagement_record[key]\n",
    "        total_by_account[account_key] = total\n",
    "    return total_by_account\n",
    "\n",
    "total_lessons_by_account = find_total(engagement_by_account,'lessons_completed')\n",
    "total_lessons = list(total_lessons_by_account.values())\n",
    "print('Mean:', np.mean(total_lessons))\n",
    "print('Standard deviation:', np.std(total_lessons))\n",
    "print('Minimum:', np.min(total_lessons))\n",
    "print('Maximum:', np.max(total_lessons))"
   ]
  },
  {
   "cell_type": "markdown",
   "id": "ab508ce4",
   "metadata": {},
   "source": [
    "# Number of visits in First Week"
   ]
  },
  {
   "cell_type": "code",
   "execution_count": 49,
   "id": "5f3e1fa2",
   "metadata": {},
   "outputs": [
    {
     "name": "stdout",
     "output_type": "stream",
     "text": [
      "Mean: 2.8673366834170855\n",
      "Standard deviation: 2.2551980029196814\n",
      "Minimum: 0\n",
      "Maximum: 7\n"
     ]
    }
   ],
   "source": [
    "## Find the mean, standard deviation, minimum, and maximum for the number of\n",
    "## days each student visits the classroom during the first week.\n",
    "\n",
    "for engagement in non_udacity_engagement:\n",
    "    if engagement['num_courses_visited'] > 0:\n",
    "        engagement['has_visited'] = 1\n",
    "    else:\n",
    "        engagement['has_visited'] = 0\n",
    "        \n",
    "total_days_by_account = find_total(engagement_by_account, 'has_visited')\n",
    "total_days = list(total_days_by_account.values())\n",
    "print('Mean:', np.mean(total_days))\n",
    "print('Standard deviation:', np.std(total_days))\n",
    "print('Minimum:', np.min(total_days))\n",
    "print('Maximum:', np.max(total_days))"
   ]
  },
  {
   "cell_type": "markdown",
   "id": "c2a0b7ef",
   "metadata": {},
   "source": [
    "# Splitting out Passing Students"
   ]
  },
  {
   "cell_type": "code",
   "execution_count": 50,
   "id": "adc9505b",
   "metadata": {},
   "outputs": [
    {
     "name": "stdout",
     "output_type": "stream",
     "text": [
      "647\n",
      "15231\n",
      "6277\n"
     ]
    }
   ],
   "source": [
    "## Create two lists of engagement data for paid students in the first week.\n",
    "## The first list should contain data for students who eventually pass the\n",
    "## subway project, and the second list should contain data for students\n",
    "## who do not.\n",
    "\n",
    "subway_project_lesson_keys = ['746169184', '3176718735']\n",
    "\n",
    "passing_engagement = []\n",
    "non_passing_engagement = []\n",
    "\n",
    "passed_student = set()\n",
    "for submission in paid_submissions:\n",
    "    rating = submission['assigned_rating']\n",
    "    lesson = submission['lesson_key']\n",
    "    student = submission['account_key']\n",
    "    if lesson in subway_project_lesson_keys and rating in ['PASSED', 'DISTINCTION']:\n",
    "        passed_student.add(student)\n",
    "        \n",
    "for engagement in paid_engagement_in_first_week:\n",
    "    student = engagement['account_key']\n",
    "    if student in passed_student:\n",
    "        passing_engagement.append(engagement)\n",
    "    else:\n",
    "        non_passing_engagement.append(engagement)\n",
    "\n",
    "print(len(passed_student))\n",
    "print(len(passing_engagement))\n",
    "print(len(non_passing_engagement))"
   ]
  },
  {
   "cell_type": "markdown",
   "id": "a14414c4",
   "metadata": {},
   "source": [
    "# Comparing the Two Student Groups"
   ]
  },
  {
   "cell_type": "code",
   "execution_count": 51,
   "id": "c498584b",
   "metadata": {},
   "outputs": [
    {
     "name": "stdout",
     "output_type": "stream",
     "text": [
      "===Passing Engagement===\n",
      "Mean: 394.58604648350865\n",
      "Standard deviation: 448.4995193265521\n",
      "Minimum: 0.0\n",
      "Maximum: 3564.7332644989997\n",
      "===Non Passing Engagement===\n",
      "Mean: 143.32647426675584\n",
      "Standard deviation: 269.5386190114951\n",
      "Minimum: 0.0\n",
      "Maximum: 1768.5227493319999\n"
     ]
    }
   ],
   "source": [
    "## Compute some metrics you're interested in and see how they differ for\n",
    "## students who pass the subway project vs. students who don't. A good\n",
    "## starting point would be the metrics we looked at earlier (minutes spent\n",
    "## in the classroom, lessons completed, and days visited).\n",
    "\n",
    "def group_data(data):\n",
    "    data_by_account = defaultdict(list)\n",
    "    for data_point in data:\n",
    "        account_key = data_point['account_key']\n",
    "        data_by_account[account_key].append(data_point)\n",
    "    return data_by_account\n",
    "\n",
    "passing_engagement_by_account = group_data(passing_engagement)\n",
    "non_passing_engagement_by_account = group_data(non_passing_engagement)\n",
    "\n",
    "def print_statistics(data, key):\n",
    "    total_data_by_account = find_total(data, key)\n",
    "    total = list(total_data_by_account.values())\n",
    "    print('Mean:', np.mean(total))\n",
    "    print('Standard deviation:', np.std(total))\n",
    "    print('Minimum:', np.min(total))\n",
    "    print('Maximum:', np.max(total))\n",
    "\n",
    "print(\"===Passing Engagement===\")\n",
    "print_statistics(passing_engagement_by_account, 'total_minutes_visited')\n",
    "print(\"===Non Passing Engagement===\")\n",
    "print_statistics(non_passing_engagement_by_account, 'total_minutes_visited')"
   ]
  },
  {
   "cell_type": "markdown",
   "id": "585c3a1b",
   "metadata": {},
   "source": [
    "# Making Histogram"
   ]
  },
  {
   "cell_type": "code",
   "execution_count": 52,
   "id": "5e988e23",
   "metadata": {},
   "outputs": [
    {
     "name": "stdout",
     "output_type": "stream",
     "text": [
      "Populating the interactive namespace from numpy and matplotlib\n"
     ]
    },
    {
     "name": "stderr",
     "output_type": "stream",
     "text": [
      "C:\\Users\\Varun Kumar\\anaconda3\\lib\\site-packages\\IPython\\core\\magics\\pylab.py:159: UserWarning: pylab import has clobbered these variables: ['f']\n",
      "`%matplotlib` prevents importing * from pylab and numpy\n",
      "  warn(\"pylab import has clobbered these variables: %s\"  % clobbered +\n"
     ]
    },
    {
     "data": {
      "image/png": "[encoded data removed]",
      "text/plain": [
       "<Figure size 432x288 with 1 Axes>"
      ]
     },
     "metadata": {
      "needs_background": "light"
     },
     "output_type": "display_data"
    },
    {
     "data": {
      "image/png": "[encoded data removed]",
      "text/plain": [
       "<Figure size 432x288 with 1 Axes>"
      ]
     },
     "metadata": {
      "needs_background": "light"
     },
     "output_type": "display_data"
    },
    {
     "data": {
      "image/png": "[encoded data removed]",
      "text/plain": [
       "<Figure size 432x288 with 1 Axes>"
      ]
     },
     "metadata": {
      "needs_background": "light"
     },
     "output_type": "display_data"
    }
   ],
   "source": [
    "## Make histograms of the three metrics we looked at earlier for both\n",
    "## students who passed the subway project and students who didn't. You\n",
    "## might also want to make histograms of any other metrics you examined.\n",
    "%matplotlib inline\n",
    "%pylab inline\n",
    "import matplotlib.pyplot as plt\n",
    "def print_histogram(data, key, label):\n",
    "    total_data_by_account = find_total(data, key)\n",
    "    total = total_data_by_account.values()\n",
    "    plt.hist(total, bins=7, label=label)\n",
    "    plt.legend()\n",
    "\n",
    "plt.figure()\n",
    "plt.suptitle('Total Minutes Visited', fontsize=18)\n",
    "print_histogram(passing_engagement_by_account, 'total_minutes_visited', 'Passing Engagement')\n",
    "print_histogram(non_passing_engagement_by_account, 'total_minutes_visited', 'Non Passing Engagement')\n",
    "plt.figure()\n",
    "plt.suptitle('Lessons Completed', fontsize=18)\n",
    "print_histogram(passing_engagement_by_account, 'lessons_completed', 'Passing Engagement')\n",
    "print_histogram(non_passing_engagement_by_account, 'lessons_completed', 'Non Passing Engagement')\n",
    "plt.figure()\n",
    "plt.suptitle('Days Visited', fontsize=18)\n",
    "print_histogram(passing_engagement_by_account, 'has_visited', 'Passing Engagement')\n",
    "print_histogram(non_passing_engagement_by_account, 'has_visited', 'Non Passing Engagement')"
   ]
  },
  {
   "cell_type": "markdown",
   "id": "80a67741",
   "metadata": {},
   "source": [
    "# Communication Phase"
   ]
  },
  {
   "cell_type": "code",
   "execution_count": 53,
   "id": "31cdfc8c",
   "metadata": {},
   "outputs": [
    {
     "data": {
      "image/png": "[encoded data removed]",
      "text/plain": [
       "<Figure size 432x288 with 1 Axes>"
      ]
     },
     "metadata": {
      "needs_background": "light"
     },
     "output_type": "display_data"
    },
    {
     "data": {
      "image/png": "[encoded data removed]",
      "text/plain": [
       "<Figure size 432x288 with 1 Axes>"
      ]
     },
     "metadata": {
      "needs_background": "light"
     },
     "output_type": "display_data"
    },
    {
     "data": {
      "image/png": "[encoded data removed]",
      "text/plain": [
       "<Figure size 432x288 with 1 Axes>"
      ]
     },
     "metadata": {
      "needs_background": "light"
     },
     "output_type": "display_data"
    }
   ],
   "source": [
    "## Make a more polished version of at least one of your visualizations\n",
    "## from earlier. Try importing the seaborn library to make the visualization\n",
    "## look better, adding axis labels and a title, and changing one or more\n",
    "## arguments to the hist() function.\n",
    "\n",
    "plt.figure()\n",
    "plt.suptitle('Total Minutes Visited', fontsize=18)\n",
    "plt.xlabel(\"total_minutes_visited\")\n",
    "plt.ylabel(\"the number of students\")\n",
    "print_histogram(passing_engagement_by_account, 'total_minutes_visited', 'Passing Engagement')\n",
    "print_histogram(non_passing_engagement_by_account, 'total_minutes_visited', 'Non Passing Engagement')\n",
    "\n",
    "plt.figure()\n",
    "plt.suptitle('Lessons Completed', fontsize=18)\n",
    "plt.xlabel(\"lessons_completed\")\n",
    "plt.ylabel(\"the number of students\")\n",
    "print_histogram(passing_engagement_by_account, 'lessons_completed', 'Passing Engagement')\n",
    "print_histogram(non_passing_engagement_by_account, 'lessons_completed', 'Non Passing Engagement')\n",
    "\n",
    "plt.figure()\n",
    "plt.suptitle('Days Visited', fontsize=18)\n",
    "plt.xlabel(\"days_visited\")\n",
    "plt.ylabel(\"the number of students\")\n",
    "print_histogram(passing_engagement_by_account, 'has_visited', 'Passing Engagement')\n",
    "print_histogram(non_passing_engagement_by_account, 'has_visited', 'Non Passing Engagement')"
   ]
  }
 ],
 "metadata": {
  "kernelspec": {
   "display_name": "Python 3",
   "language": "python",
   "name": "python3"
  },
  "language_info": {
   "codemirror_mode": {
    "name": "ipython",
    "version": 3
   },
   "file_extension": ".py",
   "mimetype": "text/x-python",
   "name": "python",
   "nbconvert_exporter": "python",
   "pygments_lexer": "ipython3",
   "version": "3.8.8"
  }
 },
 "nbformat": 4,
 "nbformat_minor": 5
}
